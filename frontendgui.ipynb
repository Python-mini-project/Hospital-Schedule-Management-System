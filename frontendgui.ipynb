#Front-end script to generate window with options as buttons
#Contributors : Akash Bagchi, Akshaya Nadathur, Riya Mary Joseph, Sanchitha N G, Shraavya B K

import sys
from tkinter import *
%run backend.ipynb

def term():
    window.destroy()
    sys.exit("Thank you for using our Schedule Management System")

window = Tk()
window.title("Hospital Schedule Management System")

b1=Button(window,text="Admin Login",width=50)
b1=Button(window, text="Admin Login",bg='light blue',fg='black',width=50,font='bold')
b1.grid(row=2,column=3)
b1.config(command = admin)

b1=Button(window,text="Schedule appointment",width=50)
b1=Button(window, text="Schedule appointment",bg='light blue',fg='black',width=50,font='bold')
b1.grid(row=3,column=3)
b1.config(command = appointment_details_primaryinput)

b1=Button(window,text="View appointment",width=50)
b1=Button(window, text="View appointment",bg='light blue',fg='black',width=50,font='bold')
b1.grid(row=4,column=3)
b1.config(command = viewapp)


b1=Button(window,text="Cancel appointment",width=50)
b1=Button(window, text="Cancel appointment",bg='light blue',fg='black',width=50,font='bold')
b1.grid(row=5,column=3)
b1.config(command = appointment_deletion_input)


b1=Button(window,text="Close",width=50)
b1=Button(window, text="Close",bg='light blue',fg='black',width=50,font='bold')
b1.grid(row=6,column=3)
b1.config(command = term)



while True:
    window.mainloop()
