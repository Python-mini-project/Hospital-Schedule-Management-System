from tkinter import *
%run backend.ipynb

window = Tk()




b1=Button(window,text="Admin Login",width=50)
b1=Button(window, text="Admin Login",bg='light blue',fg='black',width=50,font='bold')
b1.grid(row=2,column=3)

b1=Button(window,text="Schedule appointment",width=50)
b1=Button(window, text="Schedule appointment",bg='light blue',fg='black',width=50,font='bold')

b1.grid(row=3,column=3)

b1=Button(window,text="View appointment",width=50)
b1=Button(window, text="View appointment",bg='light blue',fg='black',width=50,font='bold')
b1.grid(row=4,column=3)

b1=Button(window,text="Cancel appointment",width=50)
b1=Button(window, text="Cancel appointment",bg='light blue',fg='black',width=50,font='bold')
b1.grid(row=5,column=3)

b1=Button(window,text="Close",width=50)
b1=Button(window, text="Close",bg='light blue',fg='black',width=50,font='bold')
b1.grid(row=6,column=3)



window.mainloop()
appointment_details_primaryinput()
