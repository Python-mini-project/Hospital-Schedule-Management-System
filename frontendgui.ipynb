#Front-end script to generate window with options as buttons
#Contributors : Akash Bagchi, Akshaya Nadathur, Riya Mary Joseph, Sanchitha N G, Shraavya B K

import sys
from tkinter import *
from datetime import date
import time
from tkinter.font import Font
%run backend.ipynb

def term():
    window.destroy()
    sys.exit("Thank you for using our Schedule Management System")

def update():
    timetext = time.strftime("%I : %M : %S %p")
    timelabel.config(text=timetext)
    timelabel.after(1000, update)
    
def runanalysis():
    %run #Enter notebook name here.ipynb

window = Tk()
window.title("Hospital Schedule Management System")
window.configure(bg = 'black')

myfont = Font(family="Georgia", size = 30)
myfont2 = Font(family = "Georgia", size = 7)
titlelabel = Label(window, text = "Welcome to DSU Hospital Schedule System", width = 40, wraplength = '1000', bg='black', fg='white', font=myfont)
titlelabel.grid(row=1, column=1,padx=2,pady=10,columnspan=2)

today = date.today()
datetext = today.strftime("%A, %dth %B %Y")
todaylabel = Label(window, text=datetext, bg='black', fg='white')
todaylabel.grid(row=2,column=1,padx=100,pady=10,columnspan=2)


timetext = time.strftime("%I : %M : %S %p")
timelabel = Label(window, text=timetext, bg='black',fg='white')
timelabel.grid(row=3,column=1,padx=30,pady=2,columnspan=2)
update()


b1=Button(window,text="Admin Login",width=24)
b1=Button(window, text="Admin Login",bg='light blue',fg='black',width=24,font='bold')
b1.grid(row=4,column=1,padx=2,pady=2,sticky=E)
b1.config(command = admin)

b1=Button(window,text="Analysis",width=24)
b1=Button(window, text="Analysis",bg='light blue',fg='black',width=24,font='bold')
b1.grid(row=4,column=2,padx=2,pady=2,sticky=W)
b1.config(command = runanalysis)

b1=Button(window,text="Schedule appointment",width=50)
b1=Button(window, text="Schedule appointment",bg='light blue',fg='black',width=50,font='bold')
b1.grid(row=5,column=1,padx=10,pady=2,columnspan=2)
b1.config(command = appointment_details_primaryinput)

b1=Button(window,text="View appointment",width=50)
b1=Button(window, text="View appointment",bg='light blue',fg='black',width=50,font='bold')
b1.grid(row=6,column=1,padx=10,pady=2,columnspan=2)
b1.config(command = viewapp)


b1=Button(window,text="Cancel appointment",width=50)
b1=Button(window, text="Cancel appointment",bg='light blue',fg='black',width=50,font='bold')
b1.grid(row=7,column=1,padx=10,pady=2,columnspan=2)
b1.config(command = appointment_deletion_input)


b1=Button(window,text="Close",width=50)
b1=Button(window, text="Close",bg='light blue',fg='black',width=50,font='bold')
b1.grid(row=8,column=1,padx=10,pady=2,columnspan=2)
b1.config(command = term)

footer1 = Label(window, text="Developed by Akash Bagchi, Akshaya Nadathur, Riya Mary Joseph, Sanchitha N G and Shraavya B K\nat Dayananda Sagar University, Kudlu Gate Bangalore.", width =100, wraplength='1000', bg='black', fg='white',font=myfont2)
footer1.grid(row=9, column=1, padx=10, pady=30,columnspan=2)

while True:
    window.mainloop()
