{
 "cells": [
  {
   "cell_type": "code",
   "execution_count": 9,
   "metadata": {},
   "outputs": [
    {
     "name": "stdout",
     "output_type": "stream",
     "text": [
      "\n",
      "\t\t\t\tAnalysis of no-shows at appointments:\n",
      "\n",
      "Research shows that 42% of patients do not show up to their appointments. Displayed below is a hypothetical schedule of the hospital, where 42% of patients have not showed up. The data has been made in a way that majority of factors from the research that affect no-shows have been considered, with respect to income, appointment duration, and rescheduled appointments.\n",
      "Note: This schedule does not belong to any particular doctor the way it works in the main project, hence an appointment can take up a random number of timeslots.\n"
     ]
    },
    {
     "data": {
      "text/html": [
       "<div>\n",
       "<style scoped>\n",
       "    .dataframe tbody tr th:only-of-type {\n",
       "        vertical-align: middle;\n",
       "    }\n",
       "\n",
       "    .dataframe tbody tr th {\n",
       "        vertical-align: top;\n",
       "    }\n",
       "\n",
       "    .dataframe thead th {\n",
       "        text-align: right;\n",
       "    }\n",
       "</style>\n",
       "<table border=\"1\" class=\"dataframe\">\n",
       "  <thead>\n",
       "    <tr style=\"text-align: right;\">\n",
       "      <th></th>\n",
       "      <th>Timeslot</th>\n",
       "      <th>Name</th>\n",
       "      <th>Age</th>\n",
       "      <th>Income (Lakhs)</th>\n",
       "      <th>Rescheduling?</th>\n",
       "      <th>Showed up?</th>\n",
       "    </tr>\n",
       "  </thead>\n",
       "  <tbody>\n",
       "    <tr>\n",
       "      <th>0</th>\n",
       "      <td>09:00:00</td>\n",
       "      <td>Akshaya</td>\n",
       "      <td>30</td>\n",
       "      <td>11</td>\n",
       "      <td>No</td>\n",
       "      <td>1</td>\n",
       "    </tr>\n",
       "    <tr>\n",
       "      <th>1</th>\n",
       "      <td>09:30:00</td>\n",
       "      <td>Akshaya</td>\n",
       "      <td>30</td>\n",
       "      <td>11</td>\n",
       "      <td>No</td>\n",
       "      <td>1</td>\n",
       "    </tr>\n",
       "    <tr>\n",
       "      <th>2</th>\n",
       "      <td>10:00:00</td>\n",
       "      <td>Akash</td>\n",
       "      <td>25</td>\n",
       "      <td>5</td>\n",
       "      <td>No</td>\n",
       "      <td>0</td>\n",
       "    </tr>\n",
       "    <tr>\n",
       "      <th>3</th>\n",
       "      <td>10:30:00</td>\n",
       "      <td>Akash</td>\n",
       "      <td>25</td>\n",
       "      <td>5</td>\n",
       "      <td>No</td>\n",
       "      <td>0</td>\n",
       "    </tr>\n",
       "    <tr>\n",
       "      <th>4</th>\n",
       "      <td>11:00:00</td>\n",
       "      <td>Sanchitha</td>\n",
       "      <td>20</td>\n",
       "      <td>7</td>\n",
       "      <td>No</td>\n",
       "      <td>0</td>\n",
       "    </tr>\n",
       "    <tr>\n",
       "      <th>5</th>\n",
       "      <td>11:30:00</td>\n",
       "      <td>Riya</td>\n",
       "      <td>55</td>\n",
       "      <td>17</td>\n",
       "      <td>No</td>\n",
       "      <td>1</td>\n",
       "    </tr>\n",
       "    <tr>\n",
       "      <th>6</th>\n",
       "      <td>12:00:00</td>\n",
       "      <td>Pranjal</td>\n",
       "      <td>23</td>\n",
       "      <td>8</td>\n",
       "      <td>Yes</td>\n",
       "      <td>0</td>\n",
       "    </tr>\n",
       "    <tr>\n",
       "      <th>7</th>\n",
       "      <td>12:30:00</td>\n",
       "      <td>Pranjal</td>\n",
       "      <td>23</td>\n",
       "      <td>8</td>\n",
       "      <td>Yes</td>\n",
       "      <td>0</td>\n",
       "    </tr>\n",
       "    <tr>\n",
       "      <th>8</th>\n",
       "      <td>13:00:00</td>\n",
       "      <td>Siddiq</td>\n",
       "      <td>39</td>\n",
       "      <td>15</td>\n",
       "      <td>No</td>\n",
       "      <td>1</td>\n",
       "    </tr>\n",
       "    <tr>\n",
       "      <th>9</th>\n",
       "      <td>13:30:00</td>\n",
       "      <td>Siddiq</td>\n",
       "      <td>39</td>\n",
       "      <td>15</td>\n",
       "      <td>No</td>\n",
       "      <td>1</td>\n",
       "    </tr>\n",
       "    <tr>\n",
       "      <th>10</th>\n",
       "      <td>14:00:00</td>\n",
       "      <td>Siddiq</td>\n",
       "      <td>39</td>\n",
       "      <td>15</td>\n",
       "      <td>No</td>\n",
       "      <td>1</td>\n",
       "    </tr>\n",
       "    <tr>\n",
       "      <th>11</th>\n",
       "      <td>14:30:00</td>\n",
       "      <td>Siddiq</td>\n",
       "      <td>39</td>\n",
       "      <td>15</td>\n",
       "      <td>No</td>\n",
       "      <td>1</td>\n",
       "    </tr>\n",
       "    <tr>\n",
       "      <th>12</th>\n",
       "      <td>15:00:00</td>\n",
       "      <td>Shraavya</td>\n",
       "      <td>35</td>\n",
       "      <td>10</td>\n",
       "      <td>Yes</td>\n",
       "      <td>1</td>\n",
       "    </tr>\n",
       "    <tr>\n",
       "      <th>13</th>\n",
       "      <td>15:30:00</td>\n",
       "      <td>Shraavya</td>\n",
       "      <td>35</td>\n",
       "      <td>10</td>\n",
       "      <td>Yes</td>\n",
       "      <td>1</td>\n",
       "    </tr>\n",
       "    <tr>\n",
       "      <th>14</th>\n",
       "      <td>16:00:00</td>\n",
       "      <td>Anirudh</td>\n",
       "      <td>29</td>\n",
       "      <td>7</td>\n",
       "      <td>No</td>\n",
       "      <td>0</td>\n",
       "    </tr>\n",
       "    <tr>\n",
       "      <th>15</th>\n",
       "      <td>16:30:00</td>\n",
       "      <td>Krishna Prasad</td>\n",
       "      <td>29</td>\n",
       "      <td>12</td>\n",
       "      <td>Yes</td>\n",
       "      <td>1</td>\n",
       "    </tr>\n",
       "    <tr>\n",
       "      <th>16</th>\n",
       "      <td>17:00:00</td>\n",
       "      <td>Krishna Prasad</td>\n",
       "      <td>29</td>\n",
       "      <td>12</td>\n",
       "      <td>Yes</td>\n",
       "      <td>1</td>\n",
       "    </tr>\n",
       "    <tr>\n",
       "      <th>17</th>\n",
       "      <td>17:30:00</td>\n",
       "      <td>Prarthana</td>\n",
       "      <td>40</td>\n",
       "      <td>20</td>\n",
       "      <td>No</td>\n",
       "      <td>1</td>\n",
       "    </tr>\n",
       "    <tr>\n",
       "      <th>18</th>\n",
       "      <td>18:00:00</td>\n",
       "      <td>Prarthana</td>\n",
       "      <td>40</td>\n",
       "      <td>20</td>\n",
       "      <td>No</td>\n",
       "      <td>1</td>\n",
       "    </tr>\n",
       "    <tr>\n",
       "      <th>19</th>\n",
       "      <td>18:30:00</td>\n",
       "      <td>Prarthana</td>\n",
       "      <td>40</td>\n",
       "      <td>20</td>\n",
       "      <td>No</td>\n",
       "      <td>1</td>\n",
       "    </tr>\n",
       "    <tr>\n",
       "      <th>20</th>\n",
       "      <td>19:00:00</td>\n",
       "      <td>Prarthana</td>\n",
       "      <td>40</td>\n",
       "      <td>20</td>\n",
       "      <td>No</td>\n",
       "      <td>1</td>\n",
       "    </tr>\n",
       "    <tr>\n",
       "      <th>21</th>\n",
       "      <td>19:30:00</td>\n",
       "      <td>Medha</td>\n",
       "      <td>20</td>\n",
       "      <td>11</td>\n",
       "      <td>Yes</td>\n",
       "      <td>1</td>\n",
       "    </tr>\n",
       "    <tr>\n",
       "      <th>22</th>\n",
       "      <td>20:00:00</td>\n",
       "      <td>Lavanya</td>\n",
       "      <td>26</td>\n",
       "      <td>12</td>\n",
       "      <td>Yes</td>\n",
       "      <td>0</td>\n",
       "    </tr>\n",
       "    <tr>\n",
       "      <th>23</th>\n",
       "      <td>20:30:00</td>\n",
       "      <td>Lavanya</td>\n",
       "      <td>26</td>\n",
       "      <td>12</td>\n",
       "      <td>Yes</td>\n",
       "      <td>0</td>\n",
       "    </tr>\n",
       "  </tbody>\n",
       "</table>\n",
       "</div>"
      ],
      "text/plain": [
       "    Timeslot            Name  Age  Income (Lakhs) Rescheduling?  Showed up?\n",
       "0   09:00:00        Akshaya    30              11            No           1\n",
       "1   09:30:00        Akshaya    30              11            No           1\n",
       "2   10:00:00           Akash   25               5            No           0\n",
       "3   10:30:00           Akash   25               5            No           0\n",
       "4   11:00:00      Sanchitha    20               7            No           0\n",
       "5   11:30:00            Riya   55              17            No           1\n",
       "6   12:00:00         Pranjal   23               8           Yes           0\n",
       "7   12:30:00         Pranjal   23               8           Yes           0\n",
       "8   13:00:00         Siddiq    39              15            No           1\n",
       "9   13:30:00         Siddiq    39              15            No           1\n",
       "10  14:00:00         Siddiq    39              15            No           1\n",
       "11  14:30:00         Siddiq    39              15            No           1\n",
       "12  15:00:00        Shraavya   35              10           Yes           1\n",
       "13  15:30:00        Shraavya   35              10           Yes           1\n",
       "14  16:00:00         Anirudh   29               7            No           0\n",
       "15  16:30:00  Krishna Prasad   29              12           Yes           1\n",
       "16  17:00:00  Krishna Prasad   29              12           Yes           1\n",
       "17  17:30:00       Prarthana   40              20            No           1\n",
       "18  18:00:00       Prarthana   40              20            No           1\n",
       "19  18:30:00       Prarthana   40              20            No           1\n",
       "20  19:00:00       Prarthana   40              20            No           1\n",
       "21  19:30:00           Medha   20              11           Yes           1\n",
       "22  20:00:00         Lavanya   26              12           Yes           0\n",
       "23  20:30:00         Lavanya   26              12           Yes           0"
      ]
     },
     "execution_count": 9,
     "metadata": {},
     "output_type": "execute_result"
    }
   ],
   "source": [
    "#importing libraries required for dataframes, graphs and plots.\n",
    "import numpy as np\n",
    "import pandas as pd\n",
    "import matplotlib.pyplot as plt\n",
    "%matplotlib inline\n",
    "import seaborn as sns\n",
    "print(\"\\n\\t\\t\\t\\tAnalysis of no-shows at appointments:\\n\\nResearch shows that 42% of patients do not show up to their appointments. Displayed below is a hypothetical schedule of the hospital, where 42% of patients have not showed up. The data has been made in a way that majority of factors from the research that affect no-shows have been considered, with respect to income, appointment duration, and rescheduled appointments.\\nNote: This schedule does not belong to any particular doctor the way it works in the main project, hence an appointment can take up a random number of timeslots.\")\n",
    "sample_schedule = pd.read_excel('hypothetical.xlsx') \n",
    "sample_schedule"
   ]
  },
  {
   "cell_type": "code",
   "execution_count": 10,
   "metadata": {},
   "outputs": [
    {
     "name": "stdout",
     "output_type": "stream",
     "text": [
      "\n",
      "Removing repeating timeslots, adding a new column for durations instead.\n"
     ]
    },
    {
     "data": {
      "text/html": [
       "<div>\n",
       "<style scoped>\n",
       "    .dataframe tbody tr th:only-of-type {\n",
       "        vertical-align: middle;\n",
       "    }\n",
       "\n",
       "    .dataframe tbody tr th {\n",
       "        vertical-align: top;\n",
       "    }\n",
       "\n",
       "    .dataframe thead th {\n",
       "        text-align: right;\n",
       "    }\n",
       "</style>\n",
       "<table border=\"1\" class=\"dataframe\">\n",
       "  <thead>\n",
       "    <tr style=\"text-align: right;\">\n",
       "      <th></th>\n",
       "      <th>Timeslot</th>\n",
       "      <th>Name</th>\n",
       "      <th>Age</th>\n",
       "      <th>Income (Lakhs)</th>\n",
       "      <th>Rescheduling?</th>\n",
       "      <th>Showed up?</th>\n",
       "      <th>Duration (hours)</th>\n",
       "    </tr>\n",
       "  </thead>\n",
       "  <tbody>\n",
       "    <tr>\n",
       "      <th>0</th>\n",
       "      <td>09:00:00</td>\n",
       "      <td>Akshaya</td>\n",
       "      <td>30</td>\n",
       "      <td>11</td>\n",
       "      <td>No</td>\n",
       "      <td>1</td>\n",
       "      <td>1.0</td>\n",
       "    </tr>\n",
       "    <tr>\n",
       "      <th>2</th>\n",
       "      <td>10:00:00</td>\n",
       "      <td>Akash</td>\n",
       "      <td>25</td>\n",
       "      <td>5</td>\n",
       "      <td>No</td>\n",
       "      <td>0</td>\n",
       "      <td>1.0</td>\n",
       "    </tr>\n",
       "    <tr>\n",
       "      <th>4</th>\n",
       "      <td>11:00:00</td>\n",
       "      <td>Sanchitha</td>\n",
       "      <td>20</td>\n",
       "      <td>7</td>\n",
       "      <td>No</td>\n",
       "      <td>0</td>\n",
       "      <td>0.5</td>\n",
       "    </tr>\n",
       "    <tr>\n",
       "      <th>5</th>\n",
       "      <td>11:30:00</td>\n",
       "      <td>Riya</td>\n",
       "      <td>55</td>\n",
       "      <td>17</td>\n",
       "      <td>No</td>\n",
       "      <td>1</td>\n",
       "      <td>0.5</td>\n",
       "    </tr>\n",
       "    <tr>\n",
       "      <th>6</th>\n",
       "      <td>12:00:00</td>\n",
       "      <td>Pranjal</td>\n",
       "      <td>23</td>\n",
       "      <td>8</td>\n",
       "      <td>Yes</td>\n",
       "      <td>0</td>\n",
       "      <td>1.0</td>\n",
       "    </tr>\n",
       "    <tr>\n",
       "      <th>8</th>\n",
       "      <td>13:00:00</td>\n",
       "      <td>Siddiq</td>\n",
       "      <td>39</td>\n",
       "      <td>15</td>\n",
       "      <td>No</td>\n",
       "      <td>1</td>\n",
       "      <td>2.0</td>\n",
       "    </tr>\n",
       "    <tr>\n",
       "      <th>12</th>\n",
       "      <td>15:00:00</td>\n",
       "      <td>Shraavya</td>\n",
       "      <td>35</td>\n",
       "      <td>10</td>\n",
       "      <td>Yes</td>\n",
       "      <td>1</td>\n",
       "      <td>1.0</td>\n",
       "    </tr>\n",
       "    <tr>\n",
       "      <th>14</th>\n",
       "      <td>16:00:00</td>\n",
       "      <td>Anirudh</td>\n",
       "      <td>29</td>\n",
       "      <td>7</td>\n",
       "      <td>No</td>\n",
       "      <td>0</td>\n",
       "      <td>0.5</td>\n",
       "    </tr>\n",
       "    <tr>\n",
       "      <th>15</th>\n",
       "      <td>16:30:00</td>\n",
       "      <td>Krishna Prasad</td>\n",
       "      <td>29</td>\n",
       "      <td>12</td>\n",
       "      <td>Yes</td>\n",
       "      <td>1</td>\n",
       "      <td>1.0</td>\n",
       "    </tr>\n",
       "    <tr>\n",
       "      <th>17</th>\n",
       "      <td>17:30:00</td>\n",
       "      <td>Prarthana</td>\n",
       "      <td>40</td>\n",
       "      <td>20</td>\n",
       "      <td>No</td>\n",
       "      <td>1</td>\n",
       "      <td>2.0</td>\n",
       "    </tr>\n",
       "    <tr>\n",
       "      <th>21</th>\n",
       "      <td>19:30:00</td>\n",
       "      <td>Medha</td>\n",
       "      <td>20</td>\n",
       "      <td>11</td>\n",
       "      <td>Yes</td>\n",
       "      <td>1</td>\n",
       "      <td>0.5</td>\n",
       "    </tr>\n",
       "    <tr>\n",
       "      <th>22</th>\n",
       "      <td>20:00:00</td>\n",
       "      <td>Lavanya</td>\n",
       "      <td>26</td>\n",
       "      <td>12</td>\n",
       "      <td>Yes</td>\n",
       "      <td>0</td>\n",
       "      <td>1.0</td>\n",
       "    </tr>\n",
       "  </tbody>\n",
       "</table>\n",
       "</div>"
      ],
      "text/plain": [
       "    Timeslot            Name  Age  Income (Lakhs) Rescheduling?  Showed up?  \\\n",
       "0   09:00:00        Akshaya    30              11            No           1   \n",
       "2   10:00:00           Akash   25               5            No           0   \n",
       "4   11:00:00      Sanchitha    20               7            No           0   \n",
       "5   11:30:00            Riya   55              17            No           1   \n",
       "6   12:00:00         Pranjal   23               8           Yes           0   \n",
       "8   13:00:00         Siddiq    39              15            No           1   \n",
       "12  15:00:00        Shraavya   35              10           Yes           1   \n",
       "14  16:00:00         Anirudh   29               7            No           0   \n",
       "15  16:30:00  Krishna Prasad   29              12           Yes           1   \n",
       "17  17:30:00       Prarthana   40              20            No           1   \n",
       "21  19:30:00           Medha   20              11           Yes           1   \n",
       "22  20:00:00         Lavanya   26              12           Yes           0   \n",
       "\n",
       "    Duration (hours)  \n",
       "0                1.0  \n",
       "2                1.0  \n",
       "4                0.5  \n",
       "5                0.5  \n",
       "6                1.0  \n",
       "8                2.0  \n",
       "12               1.0  \n",
       "14               0.5  \n",
       "15               1.0  \n",
       "17               2.0  \n",
       "21               0.5  \n",
       "22               1.0  "
      ]
     },
     "execution_count": 10,
     "metadata": {},
     "output_type": "execute_result"
    }
   ],
   "source": [
    "print(\"\\nRemoving repeating timeslots, adding a new column for durations instead.\")\n",
    "name_list=sample_schedule[\"Name\"].tolist()\n",
    "count=dict()\n",
    "times=[]\n",
    "timess=[]\n",
    "for i in name_list:\n",
    "    count[i]=count.get(i,0)+1\n",
    "times=list(count.values())\n",
    "for i in times:\n",
    "    timess.append(i/2)\n",
    "sample_schedule.drop_duplicates(subset =\"Name\", keep = 'first', inplace = True) \n",
    "sample_schedule[\"Duration (hours)\"]=timess\n",
    "sample_schedule"
   ]
  },
  {
   "cell_type": "code",
   "execution_count": 11,
   "metadata": {},
   "outputs": [
    {
     "name": "stdout",
     "output_type": "stream",
     "text": [
      "\n",
      "The graph below shows that 5 out of 12 people (42% approx) did not show up, indicated by '0' in blue\n"
     ]
    },
    {
     "data": {
      "text/plain": [
       "<matplotlib.axes._subplots.AxesSubplot at 0x274d78cb490>"
      ]
     },
     "execution_count": 11,
     "metadata": {},
     "output_type": "execute_result"
    },
    {
     "data": {
      "image/png": "[encoded data removed]",
      "text/plain": [
       "<Figure size 432x288 with 1 Axes>"
      ]
     },
     "metadata": {
      "needs_background": "light"
     },
     "output_type": "display_data"
    }
   ],
   "source": [
    "print(\"\\nThe graph below shows that 5 out of 12 people (42% approx) did not show up, indicated by '0' in blue\")\n",
    "sns.countplot(x='Showed up?', data=sample_schedule)"
   ]
  },
  {
   "cell_type": "code",
   "execution_count": 12,
   "metadata": {
    "scrolled": true
   },
   "outputs": [
    {
     "name": "stdout",
     "output_type": "stream",
     "text": [
      "\n",
      "The graph below is known as a box plot. It is used to find outliers, i.e. values that lie out of a normal range compared to all other values. Here, the box pot shows that one such person's age is 55. Going back to the dataframe, we see that the person aged 55 has showed up for the appointment.\n"
     ]
    },
    {
     "data": {
      "text/plain": [
       "<matplotlib.axes._subplots.AxesSubplot at 0x274d794d070>"
      ]
     },
     "execution_count": 12,
     "metadata": {},
     "output_type": "execute_result"
    },
    {
     "data": {
      "image/png": "[encoded data removed]",
      "text/plain": [
       "<Figure size 432x288 with 1 Axes>"
      ]
     },
     "metadata": {
      "needs_background": "light"
     },
     "output_type": "display_data"
    }
   ],
   "source": [
    "print(\"\\nThe graph below is known as a box plot. It is used to find outliers, i.e. values that lie out of a normal range compared to all other values. Here, the box pot shows that one such person's age is 55. Going back to the dataframe, we see that the person aged 55 has showed up for the appointment.\")\n",
    "sns.boxplot(y='Age', data=sample_schedule)"
   ]
  },
  {
   "cell_type": "code",
   "execution_count": 13,
   "metadata": {},
   "outputs": [
    {
     "name": "stdout",
     "output_type": "stream",
     "text": [
      "\n",
      "Next, we check if other older people (like the outlier) have also tended to mostly show up to the appointment.\n",
      "\n",
      "Observing the plot below, we can conclude that most people who don't show up to their appointments are young, i.e. below 30 years of age, are very commonly seen not to show up, whereas people aged slightly higher than 30 are more regular in visiting their doctors. It is also to be noted that a large percentage of people who do not show up, are also people who seemed to have chosen 'yes' for rescheduling. The likely inference from this is that younger people are less keen on getting their check-ups done, and those who have opted for rescheduling may have done so because of uncertainty of ttheir availability, which later might have not worked out in their favour.\n"
     ]
    },
    {
     "data": {
      "image/png": "[encoded data removed]",
      "text/plain": [
       "<Figure size 1800x504 with 1 Axes>"
      ]
     },
     "metadata": {
      "needs_background": "light"
     },
     "output_type": "display_data"
    }
   ],
   "source": [
    "print(\"\\nNext, we check if other older people (like the outlier) have also tended to mostly show up to the appointment.\")\n",
    "print(\"\\nObserving the plot below, we can conclude that most people who don't show up to their appointments are young, i.e. below 30 years of age, are very commonly seen not to show up, whereas people aged slightly higher than 30 are more regular in visiting their doctors. It is also to be noted that a large percentage of people who do not show up, are also people who seemed to have chosen 'yes' for rescheduling. The likely inference from this is that younger people are less keen on getting their check-ups done, and those who have opted for rescheduling may have done so because of uncertainty of ttheir availability, which later might have not worked out in their favour.\")\n",
    "fig = plt.figure(figsize=(25, 7))\n",
    "sns.violinplot(x='Rescheduling?', y='Age',hue='Showed up?', data=sample_schedule,split=True,palette={0: \"b\", 1: \"g\"});"
   ]
  },
  {
   "cell_type": "code",
   "execution_count": 14,
   "metadata": {},
   "outputs": [
    {
     "name": "stdout",
     "output_type": "stream",
     "text": [
      "\n",
      "Given below is a representation called a heatmap. It shows the level of relationship between the variables in the dataframe, where light to dark signifies more correlation to less correlation.\n",
      "The heatmap here shows us that there is a 74% correlation between Age and income of the person. This means, a persons age is directly proportional to his income 74% of the time in the hypothetical schedule. We also know from the previous plot that age is a major factor in whether people show up or not to their appointments. IF income has a strong correlation with age, the same can be assumed for income as well.\n",
      "\n",
      "Hence we infer that sometimes a person's income could affect their showing up as well (as shown in the heatmap, they have a 69% correlation). This is mostly due to the fact that lower income groups will have issues with transport, medication etc\n"
     ]
    },
    {
     "data": {
      "text/plain": [
       "<matplotlib.axes._subplots.AxesSubplot at 0x274d7838850>"
      ]
     },
     "execution_count": 14,
     "metadata": {},
     "output_type": "execute_result"
    },
    {
     "data": {
      "image/png": "[encoded data removed]",
      "text/plain": [
       "<Figure size 432x288 with 2 Axes>"
      ]
     },
     "metadata": {
      "needs_background": "light"
     },
     "output_type": "display_data"
    }
   ],
   "source": [
    "print(\"\\nGiven below is a representation called a heatmap. It shows the level of relationship between the variables in the dataframe, where light to dark signifies more correlation to less correlation.\\nThe heatmap here shows us that there is a 74% correlation between Age and income of the person. This means, a persons age is directly proportional to his income 74% of the time in the hypothetical schedule. We also know from the previous plot that age is a major factor in whether people show up or not to their appointments. IF income has a strong correlation with age, the same can be assumed for income as well.\")\n",
    "print(\"\\nHence we infer that sometimes a person's income could affect their showing up as well (as shown in the heatmap, they have a 69% correlation). This is mostly due to the fact that lower income groups will have issues with transport, medication etc\")\n",
    "sns.heatmap(sample_schedule.corr(), annot=True, linewidth=0.5)"
   ]
  },
  {
   "cell_type": "code",
   "execution_count": 15,
   "metadata": {},
   "outputs": [
    {
     "name": "stdout",
     "output_type": "stream",
     "text": [
      "\n",
      "Lastly, we look at duration as a factor as well, for affecting the scenario at hand.\n",
      "\n",
      "From the green part of the plot given below, we can see clearly that there was no one who cancelled who had a long duration appointment, and those who had shorter durations were the only ones to cancel.\n",
      "This is possibly because some patients may tend to ignore or forget their general check up appointments which aren't as crucial to them as they may last only 30 mins to 1 hour. \n"
     ]
    },
    {
     "data": {
      "text/plain": [
       "<matplotlib.axes._subplots.AxesSubplot at 0x274d7720520>"
      ]
     },
     "execution_count": 15,
     "metadata": {},
     "output_type": "execute_result"
    },
    {
     "data": {
      "image/png": "[encoded data removed]",
      "text/plain": [
       "<Figure size 432x288 with 1 Axes>"
      ]
     },
     "metadata": {
      "needs_background": "light"
     },
     "output_type": "display_data"
    }
   ],
   "source": [
    "print(\"\\nLastly, we look at duration as a factor as well, for affecting the scenario at hand.\\n\\nFrom the green part of the plot given below, we can see clearly that there was no one who cancelled who had a long duration appointment, and those who had shorter durations were the only ones to cancel.\\nThis is possibly because some patients may tend to ignore or forget their general check up appointments which aren't as crucial to them as they may last only 30 mins to 1 hour. \")\n",
    "pd.crosstab(sample_schedule['Showed up?'],sample_schedule['Duration (hours)']).plot(kind='bar', stacked=True)\n"
   ]
  },
  {
   "cell_type": "code",
   "execution_count": 16,
   "metadata": {},
   "outputs": [
    {
     "name": "stdout",
     "output_type": "stream",
     "text": [
      "\n",
      "Hence it can be concluded that while there are several factors that affect why a patient may not appear for their self-scheduled appointments mainly,\n",
      "\n",
      "Age\n",
      "Duration of appointment\n",
      "Income\n",
      "Inconvenient schedule,\n",
      "\n",
      "the analysis shows that there is definitely scope for overbooking which can be looked into in the near future along with ways to deal with avoiding such circumstances as well.\n"
     ]
    }
   ],
   "source": [
    "print(\"\\nHence it can be concluded that while there are several factors that affect why a patient may not appear for their self-scheduled appointments mainly,\\n\\nAge\\nDuration of appointment\\nIncome\\nInconvenient schedule,\\n\\nthe analysis shows that there is definitely scope for overbooking which can be looked into in the near future along with ways to deal with avoiding such circumstances as well.\")"
   ]
  }
 ],
 "metadata": {
  "kernelspec": {
   "display_name": "Python 3",
   "language": "python",
   "name": "python3"
  },
  "language_info": {
   "codemirror_mode": {
    "name": "ipython",
    "version": 3
   },
   "file_extension": ".py",
   "mimetype": "text/x-python",
   "name": "python",
   "nbconvert_exporter": "python",
   "pygments_lexer": "ipython3",
   "version": "3.8.3"
  }
 },
 "nbformat": 4,
 "nbformat_minor": 4
}
